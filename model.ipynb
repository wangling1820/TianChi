{
 "cells": [
  {
   "cell_type": "code",
   "execution_count": 1,
   "metadata": {},
   "outputs": [],
   "source": [
    "# 模型的优化训练是怎么做的\n",
    "# 数据的清洗 和 选择\n",
    "# 增加数据特征"
   ]
  },
  {
   "cell_type": "code",
   "execution_count": 2,
   "metadata": {},
   "outputs": [],
   "source": [
    "import numpy as np\n",
    "import pandas as pd\n",
    "import lightgbm as lgb\n",
    "from sklearn.model_selection import train_test_split"
   ]
  },
  {
   "cell_type": "code",
   "execution_count": 3,
   "metadata": {},
   "outputs": [
    {
     "data": {
      "text/html": [
       "<div>\n",
       "<style scoped>\n",
       "    .dataframe tbody tr th:only-of-type {\n",
       "        vertical-align: middle;\n",
       "    }\n",
       "\n",
       "    .dataframe tbody tr th {\n",
       "        vertical-align: top;\n",
       "    }\n",
       "\n",
       "    .dataframe thead th {\n",
       "        text-align: right;\n",
       "    }\n",
       "</style>\n",
       "<table border=\"1\" class=\"dataframe\">\n",
       "  <thead>\n",
       "    <tr style=\"text-align: right;\">\n",
       "      <th></th>\n",
       "      <th>x_mean</th>\n",
       "      <th>x_std</th>\n",
       "      <th>x_quantile</th>\n",
       "      <th>x_median</th>\n",
       "      <th>x_kurt</th>\n",
       "      <th>x_skew</th>\n",
       "      <th>y_mean</th>\n",
       "      <th>y_std</th>\n",
       "      <th>y_quantile</th>\n",
       "      <th>y_median</th>\n",
       "      <th>...</th>\n",
       "      <th>wei_dist_mean</th>\n",
       "      <th>wei_dist_std</th>\n",
       "      <th>wei_dist_quantile</th>\n",
       "      <th>wei_dist_median</th>\n",
       "      <th>wei_dist_kurt</th>\n",
       "      <th>wei_dist_skew</th>\n",
       "      <th>s</th>\n",
       "      <th>p_weiwang</th>\n",
       "      <th>p_tuowang</th>\n",
       "      <th>type</th>\n",
       "    </tr>\n",
       "  </thead>\n",
       "  <tbody>\n",
       "    <tr>\n",
       "      <th>0</th>\n",
       "      <td>6.247895e+06</td>\n",
       "      <td>4438.069089</td>\n",
       "      <td>6.246627e+06</td>\n",
       "      <td>6.246627e+06</td>\n",
       "      <td>13.235139</td>\n",
       "      <td>3.712603</td>\n",
       "      <td>5.239679e+06</td>\n",
       "      <td>5939.181795</td>\n",
       "      <td>5.241151e+06</td>\n",
       "      <td>5.241260e+06</td>\n",
       "      <td>...</td>\n",
       "      <td>0.186612</td>\n",
       "      <td>0.040645</td>\n",
       "      <td>0.175043</td>\n",
       "      <td>0.175043</td>\n",
       "      <td>11.122571</td>\n",
       "      <td>3.532651</td>\n",
       "      <td>8.723267e+08</td>\n",
       "      <td>1.000000</td>\n",
       "      <td>1.000000</td>\n",
       "      <td>拖网</td>\n",
       "    </tr>\n",
       "    <tr>\n",
       "      <th>1</th>\n",
       "      <td>6.173433e+06</td>\n",
       "      <td>12250.695539</td>\n",
       "      <td>6.165485e+06</td>\n",
       "      <td>6.165586e+06</td>\n",
       "      <td>-0.359746</td>\n",
       "      <td>1.152952</td>\n",
       "      <td>5.197881e+06</td>\n",
       "      <td>6039.038082</td>\n",
       "      <td>5.187879e+06</td>\n",
       "      <td>5.201786e+06</td>\n",
       "      <td>...</td>\n",
       "      <td>0.104653</td>\n",
       "      <td>0.070213</td>\n",
       "      <td>0.058759</td>\n",
       "      <td>0.059132</td>\n",
       "      <td>-0.532114</td>\n",
       "      <td>1.089043</td>\n",
       "      <td>7.098153e+08</td>\n",
       "      <td>1.000000</td>\n",
       "      <td>1.000000</td>\n",
       "      <td>刺网</td>\n",
       "    </tr>\n",
       "    <tr>\n",
       "      <th>2</th>\n",
       "      <td>7.053152e+06</td>\n",
       "      <td>12171.034972</td>\n",
       "      <td>7.028056e+06</td>\n",
       "      <td>7.057604e+06</td>\n",
       "      <td>0.108375</td>\n",
       "      <td>-1.241603</td>\n",
       "      <td>6.089065e+06</td>\n",
       "      <td>19760.522701</td>\n",
       "      <td>6.061634e+06</td>\n",
       "      <td>6.089506e+06</td>\n",
       "      <td>...</td>\n",
       "      <td>0.690907</td>\n",
       "      <td>0.094144</td>\n",
       "      <td>0.566603</td>\n",
       "      <td>0.739652</td>\n",
       "      <td>-0.163807</td>\n",
       "      <td>-0.662110</td>\n",
       "      <td>3.587348e+09</td>\n",
       "      <td>0.911846</td>\n",
       "      <td>0.129477</td>\n",
       "      <td>围网</td>\n",
       "    </tr>\n",
       "    <tr>\n",
       "      <th>3</th>\n",
       "      <td>6.711096e+06</td>\n",
       "      <td>60764.037193</td>\n",
       "      <td>6.658979e+06</td>\n",
       "      <td>6.663841e+06</td>\n",
       "      <td>-0.927983</td>\n",
       "      <td>0.631317</td>\n",
       "      <td>5.459586e+06</td>\n",
       "      <td>25339.521511</td>\n",
       "      <td>5.433949e+06</td>\n",
       "      <td>5.453345e+06</td>\n",
       "      <td>...</td>\n",
       "      <td>0.874476</td>\n",
       "      <td>0.142671</td>\n",
       "      <td>0.754016</td>\n",
       "      <td>0.804881</td>\n",
       "      <td>0.763413</td>\n",
       "      <td>1.095577</td>\n",
       "      <td>1.604409e+10</td>\n",
       "      <td>0.911765</td>\n",
       "      <td>0.651961</td>\n",
       "      <td>围网</td>\n",
       "    </tr>\n",
       "    <tr>\n",
       "      <th>4</th>\n",
       "      <td>6.194958e+06</td>\n",
       "      <td>12947.725471</td>\n",
       "      <td>6.178915e+06</td>\n",
       "      <td>6.199598e+06</td>\n",
       "      <td>-0.727048</td>\n",
       "      <td>-0.612727</td>\n",
       "      <td>5.134912e+06</td>\n",
       "      <td>24345.461517</td>\n",
       "      <td>5.113110e+06</td>\n",
       "      <td>5.128339e+06</td>\n",
       "      <td>...</td>\n",
       "      <td>0.461491</td>\n",
       "      <td>0.134213</td>\n",
       "      <td>0.162758</td>\n",
       "      <td>0.528028</td>\n",
       "      <td>0.299261</td>\n",
       "      <td>-1.231053</td>\n",
       "      <td>4.470275e+09</td>\n",
       "      <td>1.000000</td>\n",
       "      <td>1.000000</td>\n",
       "      <td>拖网</td>\n",
       "    </tr>\n",
       "  </tbody>\n",
       "</table>\n",
       "<p>5 rows × 40 columns</p>\n",
       "</div>"
      ],
      "text/plain": [
       "         x_mean         x_std    x_quantile      x_median     x_kurt  \\\n",
       "0  6.247895e+06   4438.069089  6.246627e+06  6.246627e+06  13.235139   \n",
       "1  6.173433e+06  12250.695539  6.165485e+06  6.165586e+06  -0.359746   \n",
       "2  7.053152e+06  12171.034972  7.028056e+06  7.057604e+06   0.108375   \n",
       "3  6.711096e+06  60764.037193  6.658979e+06  6.663841e+06  -0.927983   \n",
       "4  6.194958e+06  12947.725471  6.178915e+06  6.199598e+06  -0.727048   \n",
       "\n",
       "     x_skew        y_mean         y_std    y_quantile      y_median  ...  \\\n",
       "0  3.712603  5.239679e+06   5939.181795  5.241151e+06  5.241260e+06  ...   \n",
       "1  1.152952  5.197881e+06   6039.038082  5.187879e+06  5.201786e+06  ...   \n",
       "2 -1.241603  6.089065e+06  19760.522701  6.061634e+06  6.089506e+06  ...   \n",
       "3  0.631317  5.459586e+06  25339.521511  5.433949e+06  5.453345e+06  ...   \n",
       "4 -0.612727  5.134912e+06  24345.461517  5.113110e+06  5.128339e+06  ...   \n",
       "\n",
       "   wei_dist_mean  wei_dist_std  wei_dist_quantile  wei_dist_median  \\\n",
       "0       0.186612      0.040645           0.175043         0.175043   \n",
       "1       0.104653      0.070213           0.058759         0.059132   \n",
       "2       0.690907      0.094144           0.566603         0.739652   \n",
       "3       0.874476      0.142671           0.754016         0.804881   \n",
       "4       0.461491      0.134213           0.162758         0.528028   \n",
       "\n",
       "   wei_dist_kurt  wei_dist_skew             s  p_weiwang  p_tuowang  type  \n",
       "0      11.122571       3.532651  8.723267e+08   1.000000   1.000000    拖网  \n",
       "1      -0.532114       1.089043  7.098153e+08   1.000000   1.000000    刺网  \n",
       "2      -0.163807      -0.662110  3.587348e+09   0.911846   0.129477    围网  \n",
       "3       0.763413       1.095577  1.604409e+10   0.911765   0.651961    围网  \n",
       "4       0.299261      -1.231053  4.470275e+09   1.000000   1.000000    拖网  \n",
       "\n",
       "[5 rows x 40 columns]"
      ]
     },
     "execution_count": 3,
     "metadata": {},
     "output_type": "execute_result"
    }
   ],
   "source": [
    "train = pd.read_csv('./data/train_feature.csv')\n",
    "train.head()"
   ]
  },
  {
   "cell_type": "code",
   "execution_count": 4,
   "metadata": {},
   "outputs": [
    {
     "data": {
      "text/plain": [
       "6313"
      ]
     },
     "execution_count": 4,
     "metadata": {},
     "output_type": "execute_result"
    }
   ],
   "source": [
    "len(train[train['p_weiwang'] == 1])"
   ]
  },
  {
   "cell_type": "code",
   "execution_count": 5,
   "metadata": {},
   "outputs": [
    {
     "data": {
      "text/plain": [
       "5547"
      ]
     },
     "execution_count": 5,
     "metadata": {},
     "output_type": "execute_result"
    }
   ],
   "source": [
    "len(train[train['p_tuowang'] == 1])"
   ]
  },
  {
   "cell_type": "code",
   "execution_count": 6,
   "metadata": {},
   "outputs": [
    {
     "data": {
      "text/plain": [
       "array([0, 1, 2, ..., 1, 2, 0])"
      ]
     },
     "execution_count": 6,
     "metadata": {},
     "output_type": "execute_result"
    }
   ],
   "source": [
    "label_dict = {'拖网':0, '刺网':1, '围网':2}\n",
    "train['type'] = train['type'].map(label_dict)\n",
    "label = np.array(train['type'])\n",
    "label"
   ]
  },
  {
   "cell_type": "code",
   "execution_count": 7,
   "metadata": {},
   "outputs": [
    {
     "data": {
      "text/plain": [
       "(7000, 39)"
      ]
     },
     "execution_count": 7,
     "metadata": {},
     "output_type": "execute_result"
    }
   ],
   "source": [
    "x = np.array(train.drop('type', axis=1))\n",
    "x.shape"
   ]
  },
  {
   "cell_type": "code",
   "execution_count": 8,
   "metadata": {},
   "outputs": [],
   "source": [
    "from sklearn.model_selection import KFold\n",
    "from sklearn.metrics import f1_score"
   ]
  },
  {
   "cell_type": "code",
   "execution_count": 9,
   "metadata": {},
   "outputs": [],
   "source": [
    "param = {'num_leaves': 31,     #由于lightGBM是leaves_wise生长，官方说法是要小于2^max_depth\n",
    "         'objective':'multiclassova',\n",
    "         'num_class':3,\n",
    "         'learning_rate': 0.01,\n",
    "         \"boosting\": \"gbdt\",\n",
    "#          \"feature_fraction\": 0.9,\n",
    "#          \"bagging_fraction\": 0.9,\n",
    "         \"lambda_l1\": 0.1,\n",
    "         \"verbosity\": -1,\n",
    "        }"
   ]
  },
  {
   "cell_type": "code",
   "execution_count": 20,
   "metadata": {},
   "outputs": [
    {
     "name": "stdout",
     "output_type": "stream",
     "text": [
      "fold =  1\n",
      "Training until validation scores don't improve for 1000 rounds\n",
      "[500]\ttraining's multi_logloss: 0.155792\tvalid_1's multi_logloss: 0.260166\n",
      "[1000]\ttraining's multi_logloss: 0.0775021\tvalid_1's multi_logloss: 0.237692\n",
      "Did not meet early stopping. Best iteration is:\n",
      "[1000]\ttraining's multi_logloss: 0.0775021\tvalid_1's multi_logloss: 0.237692\n",
      "1 _validation f1_score is  0.8915152981377868\n",
      "fold =  2\n",
      "Training until validation scores don't improve for 1000 rounds\n",
      "[500]\ttraining's multi_logloss: 0.155855\tvalid_1's multi_logloss: 0.28277\n",
      "[1000]\ttraining's multi_logloss: 0.0771923\tvalid_1's multi_logloss: 0.259413\n",
      "Did not meet early stopping. Best iteration is:\n",
      "[1000]\ttraining's multi_logloss: 0.0771923\tvalid_1's multi_logloss: 0.259413\n",
      "2 _validation f1_score is  0.8849372888951544\n",
      "fold =  3\n",
      "Training until validation scores don't improve for 1000 rounds\n",
      "[500]\ttraining's multi_logloss: 0.158381\tvalid_1's multi_logloss: 0.259522\n",
      "[1000]\ttraining's multi_logloss: 0.0795573\tvalid_1's multi_logloss: 0.231216\n",
      "Did not meet early stopping. Best iteration is:\n",
      "[1000]\ttraining's multi_logloss: 0.0795573\tvalid_1's multi_logloss: 0.231216\n",
      "3 _validation f1_score is  0.8927913558013891\n",
      "fold =  4\n",
      "Training until validation scores don't improve for 1000 rounds\n",
      "[500]\ttraining's multi_logloss: 0.157517\tvalid_1's multi_logloss: 0.281575\n",
      "[1000]\ttraining's multi_logloss: 0.0780496\tvalid_1's multi_logloss: 0.269704\n",
      "Did not meet early stopping. Best iteration is:\n",
      "[1000]\ttraining's multi_logloss: 0.0780496\tvalid_1's multi_logloss: 0.269704\n",
      "4 _validation f1_score is  0.8651977401129946\n",
      "fold =  5\n",
      "Training until validation scores don't improve for 1000 rounds\n",
      "[500]\ttraining's multi_logloss: 0.158151\tvalid_1's multi_logloss: 0.293335\n",
      "[1000]\ttraining's multi_logloss: 0.0790073\tvalid_1's multi_logloss: 0.273931\n",
      "Did not meet early stopping. Best iteration is:\n",
      "[1000]\ttraining's multi_logloss: 0.0790073\tvalid_1's multi_logloss: 0.273931\n",
      "5 _validation f1_score is  0.8884761904761905\n",
      "fold =  6\n",
      "Training until validation scores don't improve for 1000 rounds\n",
      "[500]\ttraining's multi_logloss: 0.157601\tvalid_1's multi_logloss: 0.24821\n",
      "[1000]\ttraining's multi_logloss: 0.0786102\tvalid_1's multi_logloss: 0.227254\n",
      "Did not meet early stopping. Best iteration is:\n",
      "[1000]\ttraining's multi_logloss: 0.0786102\tvalid_1's multi_logloss: 0.227254\n",
      "6 _validation f1_score is  0.8847824279139974\n",
      "fold =  7\n",
      "Training until validation scores don't improve for 1000 rounds\n",
      "[500]\ttraining's multi_logloss: 0.155553\tvalid_1's multi_logloss: 0.303239\n",
      "[1000]\ttraining's multi_logloss: 0.0771081\tvalid_1's multi_logloss: 0.290517\n",
      "Did not meet early stopping. Best iteration is:\n",
      "[1000]\ttraining's multi_logloss: 0.0771081\tvalid_1's multi_logloss: 0.290517\n",
      "7 _validation f1_score is  0.8735977154564593\n",
      "fold =  8\n",
      "Training until validation scores don't improve for 1000 rounds\n",
      "[500]\ttraining's multi_logloss: 0.158243\tvalid_1's multi_logloss: 0.265875\n",
      "[1000]\ttraining's multi_logloss: 0.0788547\tvalid_1's multi_logloss: 0.238292\n",
      "Did not meet early stopping. Best iteration is:\n",
      "[1000]\ttraining's multi_logloss: 0.0788547\tvalid_1's multi_logloss: 0.238292\n",
      "8 _validation f1_score is  0.890403792788033\n",
      "fold =  9\n",
      "Training until validation scores don't improve for 1000 rounds\n",
      "[500]\ttraining's multi_logloss: 0.155478\tvalid_1's multi_logloss: 0.283011\n",
      "[1000]\ttraining's multi_logloss: 0.0772493\tvalid_1's multi_logloss: 0.253732\n",
      "Did not meet early stopping. Best iteration is:\n",
      "[1000]\ttraining's multi_logloss: 0.0772493\tvalid_1's multi_logloss: 0.253732\n",
      "9 _validation f1_score is  0.8883079927190374\n",
      "fold =  10\n",
      "Training until validation scores don't improve for 1000 rounds\n",
      "[500]\ttraining's multi_logloss: 0.158178\tvalid_1's multi_logloss: 0.265023\n",
      "[1000]\ttraining's multi_logloss: 0.0788936\tvalid_1's multi_logloss: 0.24246\n",
      "Did not meet early stopping. Best iteration is:\n",
      "[1000]\ttraining's multi_logloss: 0.0788936\tvalid_1's multi_logloss: 0.24246\n",
      "10 _validation f1_score is  0.8768150544450818\n"
     ]
    }
   ],
   "source": [
    "folds = KFold(n_splits=10, shuffle=True, random_state=42)\n",
    "model_list = []\n",
    "val_f1score = []\n",
    "for fold, (train_idx, val_idx) in enumerate(folds.split(x, label)):\n",
    "    print('fold = ', fold+1)\n",
    "   \n",
    "    curr_train_data = lgb.Dataset(x[train_idx], label[train_idx])\n",
    "    curr_val_data = lgb.Dataset(x[val_idx], label[val_idx])\n",
    "    \n",
    "    num_boost_round = 1000\n",
    "    booster_model = lgb.train(param, \n",
    "                                curr_train_data, \n",
    "                                num_boost_round, \n",
    "                                valid_sets = [curr_train_data, curr_val_data], \n",
    "                                verbose_eval=500,\n",
    "                                early_stopping_rounds = 1000)\n",
    "   \n",
    "    label_pred = booster_model.predict(x[val_idx], num_iteration=booster_model.best_iteration)\n",
    "    label_pred_encode = np.argmax(label_pred, axis=1)\n",
    "    curr_f1score = f1_score(label_pred_encode, label[val_idx], average='macro')\n",
    "    print(fold + 1, '_validation f1_score is ', curr_f1score)\n",
    "    model_list.append(booster_model)\n",
    "    val_f1score.append(curr_f1score)\n",
    "    "
   ]
  },
  {
   "cell_type": "code",
   "execution_count": 21,
   "metadata": {},
   "outputs": [
    {
     "name": "stdout",
     "output_type": "stream",
     "text": [
      "[0.8915152981377868, 0.8849372888951544, 0.8927913558013891, 0.8651977401129946, 0.8884761904761905, 0.8847824279139974, 0.8735977154564593, 0.890403792788033, 0.8883079927190374, 0.8768150544450818]\n"
     ]
    }
   ],
   "source": [
    "print(val_f1score)"
   ]
  },
  {
   "cell_type": "code",
   "execution_count": 22,
   "metadata": {},
   "outputs": [
    {
     "data": {
      "text/plain": [
       "array([3, 6, 9, 5, 1, 8, 4, 7, 0, 2])"
      ]
     },
     "execution_count": 22,
     "metadata": {},
     "output_type": "execute_result"
    }
   ],
   "source": [
    "sorted_idx = np.array(val_f1score).argsort()\n",
    "sorted_idx"
   ]
  },
  {
   "cell_type": "code",
   "execution_count": 23,
   "metadata": {},
   "outputs": [],
   "source": [
    "test_fea = pd.read_csv('./data/test_feature.csv')\n",
    "test_fea\n",
    "test = np.array(test_fea.drop('id', axis=1))"
   ]
  },
  {
   "cell_type": "code",
   "execution_count": 24,
   "metadata": {},
   "outputs": [
    {
     "data": {
      "text/plain": [
       "[array([0, 0, 0, ..., 0, 0, 0]),\n",
       " array([0, 0, 0, ..., 0, 0, 0]),\n",
       " array([0, 0, 0, ..., 0, 0, 0]),\n",
       " array([0, 0, 0, ..., 0, 0, 0]),\n",
       " array([0, 0, 0, ..., 0, 0, 0]),\n",
       " array([0, 0, 0, ..., 0, 0, 0]),\n",
       " array([0, 0, 0, ..., 0, 0, 0]),\n",
       " array([0, 0, 0, ..., 0, 0, 0]),\n",
       " array([0, 0, 0, ..., 0, 0, 0]),\n",
       " array([0, 0, 0, ..., 0, 0, 0])]"
      ]
     },
     "execution_count": 24,
     "metadata": {},
     "output_type": "execute_result"
    }
   ],
   "source": [
    "res_list = []\n",
    "for m in model_list:\n",
    "    test_pred = m.predict(test, num_iteration = m.best_iteration)\n",
    "    test_pred_encode = np.argmax(test_pred, axis=1)\n",
    "    res_list.append(test_pred_encode)\n",
    "res_list"
   ]
  },
  {
   "cell_type": "code",
   "execution_count": 25,
   "metadata": {},
   "outputs": [
    {
     "data": {
      "text/plain": [
       "array([[0, 0, 0, ..., 0, 0, 0],\n",
       "       [0, 0, 0, ..., 0, 0, 0],\n",
       "       [0, 0, 0, ..., 0, 0, 0],\n",
       "       ...,\n",
       "       [0, 0, 0, ..., 0, 0, 0],\n",
       "       [0, 0, 0, ..., 0, 0, 0],\n",
       "       [0, 0, 0, ..., 0, 0, 0]])"
      ]
     },
     "execution_count": 25,
     "metadata": {},
     "output_type": "execute_result"
    }
   ],
   "source": [
    "temp = np.array(res_list).T\n",
    "temp"
   ]
  },
  {
   "cell_type": "code",
   "execution_count": 26,
   "metadata": {},
   "outputs": [
    {
     "data": {
      "text/plain": [
       "0"
      ]
     },
     "execution_count": 26,
     "metadata": {},
     "output_type": "execute_result"
    }
   ],
   "source": [
    "np.argmax(np.bincount(temp[1]))"
   ]
  },
  {
   "cell_type": "code",
   "execution_count": 27,
   "metadata": {},
   "outputs": [],
   "source": [
    "res_final = []\n",
    "for i in range(temp.shape[0]):\n",
    "    res_final.append(np.argmax(np.bincount(temp[i])))"
   ]
  },
  {
   "cell_type": "code",
   "execution_count": 28,
   "metadata": {
    "scrolled": false
   },
   "outputs": [
    {
     "data": {
      "text/plain": [
       "1185"
      ]
     },
     "execution_count": 28,
     "metadata": {},
     "output_type": "execute_result"
    }
   ],
   "source": [
    "np.array(res_final).sum()"
   ]
  },
  {
   "cell_type": "code",
   "execution_count": 29,
   "metadata": {},
   "outputs": [
    {
     "data": {
      "text/html": [
       "<div>\n",
       "<style scoped>\n",
       "    .dataframe tbody tr th:only-of-type {\n",
       "        vertical-align: middle;\n",
       "    }\n",
       "\n",
       "    .dataframe tbody tr th {\n",
       "        vertical-align: top;\n",
       "    }\n",
       "\n",
       "    .dataframe thead th {\n",
       "        text-align: right;\n",
       "    }\n",
       "</style>\n",
       "<table border=\"1\" class=\"dataframe\">\n",
       "  <thead>\n",
       "    <tr style=\"text-align: right;\">\n",
       "      <th></th>\n",
       "      <th>id</th>\n",
       "      <th>type</th>\n",
       "    </tr>\n",
       "  </thead>\n",
       "  <tbody>\n",
       "    <tr>\n",
       "      <th>0</th>\n",
       "      <td>8031</td>\n",
       "      <td>拖网</td>\n",
       "    </tr>\n",
       "    <tr>\n",
       "      <th>1</th>\n",
       "      <td>8325</td>\n",
       "      <td>拖网</td>\n",
       "    </tr>\n",
       "    <tr>\n",
       "      <th>2</th>\n",
       "      <td>7660</td>\n",
       "      <td>拖网</td>\n",
       "    </tr>\n",
       "    <tr>\n",
       "      <th>3</th>\n",
       "      <td>8408</td>\n",
       "      <td>刺网</td>\n",
       "    </tr>\n",
       "    <tr>\n",
       "      <th>4</th>\n",
       "      <td>7743</td>\n",
       "      <td>围网</td>\n",
       "    </tr>\n",
       "    <tr>\n",
       "      <th>...</th>\n",
       "      <td>...</td>\n",
       "      <td>...</td>\n",
       "    </tr>\n",
       "    <tr>\n",
       "      <th>1995</th>\n",
       "      <td>8141</td>\n",
       "      <td>拖网</td>\n",
       "    </tr>\n",
       "    <tr>\n",
       "      <th>1996</th>\n",
       "      <td>8121</td>\n",
       "      <td>拖网</td>\n",
       "    </tr>\n",
       "    <tr>\n",
       "      <th>1997</th>\n",
       "      <td>8575</td>\n",
       "      <td>拖网</td>\n",
       "    </tr>\n",
       "    <tr>\n",
       "      <th>1998</th>\n",
       "      <td>8717</td>\n",
       "      <td>拖网</td>\n",
       "    </tr>\n",
       "    <tr>\n",
       "      <th>1999</th>\n",
       "      <td>7146</td>\n",
       "      <td>拖网</td>\n",
       "    </tr>\n",
       "  </tbody>\n",
       "</table>\n",
       "<p>2000 rows × 2 columns</p>\n",
       "</div>"
      ],
      "text/plain": [
       "        id type\n",
       "0     8031   拖网\n",
       "1     8325   拖网\n",
       "2     7660   拖网\n",
       "3     8408   刺网\n",
       "4     7743   围网\n",
       "...    ...  ...\n",
       "1995  8141   拖网\n",
       "1996  8121   拖网\n",
       "1997  8575   拖网\n",
       "1998  8717   拖网\n",
       "1999  7146   拖网\n",
       "\n",
       "[2000 rows x 2 columns]"
      ]
     },
     "execution_count": 29,
     "metadata": {},
     "output_type": "execute_result"
    }
   ],
   "source": [
    "res = pd.DataFrame( {'id':test_fea['id'], 'type':res_final})\n",
    "num2label = {0: '拖网', 1 :'刺网', 2: '围网'}\n",
    "res['type'] = res['type'].map(num2label)\n",
    "res"
   ]
  },
  {
   "cell_type": "code",
   "execution_count": 30,
   "metadata": {},
   "outputs": [
    {
     "name": "stdout",
     "output_type": "stream",
     "text": [
      "done!\n"
     ]
    }
   ],
   "source": [
    "res.to_csv('./res_005.csv', header=False, index=False)\n",
    "print('done!')"
   ]
  },
  {
   "cell_type": "code",
   "execution_count": 31,
   "metadata": {},
   "outputs": [
    {
     "name": "stdout",
     "output_type": "stream",
     "text": [
      "465 0.2325\n"
     ]
    }
   ],
   "source": [
    "num = len(res[res['type']=='围网'])\n",
    "print(num, num/ 2000)"
   ]
  },
  {
   "cell_type": "code",
   "execution_count": 32,
   "metadata": {},
   "outputs": [
    {
     "name": "stdout",
     "output_type": "stream",
     "text": [
      "255 0.1275\n"
     ]
    }
   ],
   "source": [
    "num = len(res[res['type']=='刺网'])\n",
    "print(num, num/ 2000)"
   ]
  },
  {
   "cell_type": "code",
   "execution_count": 33,
   "metadata": {},
   "outputs": [
    {
     "name": "stdout",
     "output_type": "stream",
     "text": [
      "1280 0.64\n"
     ]
    }
   ],
   "source": [
    "num = len(res[res['type']=='拖网'])\n",
    "print(num, num/ 2000)"
   ]
  },
  {
   "cell_type": "code",
   "execution_count": 24,
   "metadata": {},
   "outputs": [
    {
     "data": {
      "text/plain": [
       "2000"
      ]
     },
     "execution_count": 24,
     "metadata": {},
     "output_type": "execute_result"
    }
   ],
   "source": [
    "test_pred = booster_model.predict(test, num_iteration=booster_model.best_iteration)\n",
    "test_pred_encode = np.argmax(test_pred, axis=1)\n",
    "len(test_pred_encode)"
   ]
  },
  {
   "cell_type": "code",
   "execution_count": 25,
   "metadata": {},
   "outputs": [
    {
     "data": {
      "text/plain": [
       "array([0, 0, 0, ..., 0, 0, 0])"
      ]
     },
     "execution_count": 25,
     "metadata": {},
     "output_type": "execute_result"
    }
   ],
   "source": [
    "test_pred_encode"
   ]
  },
  {
   "cell_type": "code",
   "execution_count": 26,
   "metadata": {},
   "outputs": [
    {
     "data": {
      "text/plain": [
       "1220"
      ]
     },
     "execution_count": 26,
     "metadata": {},
     "output_type": "execute_result"
    }
   ],
   "source": [
    "test_pred_encode.sum()"
   ]
  },
  {
   "cell_type": "code",
   "execution_count": 27,
   "metadata": {},
   "outputs": [
    {
     "data": {
      "text/html": [
       "<div>\n",
       "<style scoped>\n",
       "    .dataframe tbody tr th:only-of-type {\n",
       "        vertical-align: middle;\n",
       "    }\n",
       "\n",
       "    .dataframe tbody tr th {\n",
       "        vertical-align: top;\n",
       "    }\n",
       "\n",
       "    .dataframe thead th {\n",
       "        text-align: right;\n",
       "    }\n",
       "</style>\n",
       "<table border=\"1\" class=\"dataframe\">\n",
       "  <thead>\n",
       "    <tr style=\"text-align: right;\">\n",
       "      <th></th>\n",
       "      <th>id</th>\n",
       "      <th>type</th>\n",
       "    </tr>\n",
       "  </thead>\n",
       "  <tbody>\n",
       "    <tr>\n",
       "      <th>0</th>\n",
       "      <td>8031</td>\n",
       "      <td>拖网</td>\n",
       "    </tr>\n",
       "    <tr>\n",
       "      <th>1</th>\n",
       "      <td>8325</td>\n",
       "      <td>拖网</td>\n",
       "    </tr>\n",
       "    <tr>\n",
       "      <th>2</th>\n",
       "      <td>7660</td>\n",
       "      <td>拖网</td>\n",
       "    </tr>\n",
       "    <tr>\n",
       "      <th>3</th>\n",
       "      <td>8408</td>\n",
       "      <td>刺网</td>\n",
       "    </tr>\n",
       "    <tr>\n",
       "      <th>4</th>\n",
       "      <td>7743</td>\n",
       "      <td>围网</td>\n",
       "    </tr>\n",
       "    <tr>\n",
       "      <th>...</th>\n",
       "      <td>...</td>\n",
       "      <td>...</td>\n",
       "    </tr>\n",
       "    <tr>\n",
       "      <th>1995</th>\n",
       "      <td>8141</td>\n",
       "      <td>拖网</td>\n",
       "    </tr>\n",
       "    <tr>\n",
       "      <th>1996</th>\n",
       "      <td>8121</td>\n",
       "      <td>拖网</td>\n",
       "    </tr>\n",
       "    <tr>\n",
       "      <th>1997</th>\n",
       "      <td>8575</td>\n",
       "      <td>拖网</td>\n",
       "    </tr>\n",
       "    <tr>\n",
       "      <th>1998</th>\n",
       "      <td>8717</td>\n",
       "      <td>拖网</td>\n",
       "    </tr>\n",
       "    <tr>\n",
       "      <th>1999</th>\n",
       "      <td>7146</td>\n",
       "      <td>拖网</td>\n",
       "    </tr>\n",
       "  </tbody>\n",
       "</table>\n",
       "<p>2000 rows × 2 columns</p>\n",
       "</div>"
      ],
      "text/plain": [
       "        id type\n",
       "0     8031   拖网\n",
       "1     8325   拖网\n",
       "2     7660   拖网\n",
       "3     8408   刺网\n",
       "4     7743   围网\n",
       "...    ...  ...\n",
       "1995  8141   拖网\n",
       "1996  8121   拖网\n",
       "1997  8575   拖网\n",
       "1998  8717   拖网\n",
       "1999  7146   拖网\n",
       "\n",
       "[2000 rows x 2 columns]"
      ]
     },
     "execution_count": 27,
     "metadata": {},
     "output_type": "execute_result"
    }
   ],
   "source": [
    "res = pd.DataFrame( {'id':test_fea['id'], 'type':test_pred_encode})\n",
    "num2label = {0: '拖网', 1 :'刺网', 2: '围网'}\n",
    "res['type'] = res['type'].map(num2label)\n",
    "res"
   ]
  },
  {
   "cell_type": "code",
   "execution_count": 28,
   "metadata": {},
   "outputs": [
    {
     "name": "stdout",
     "output_type": "stream",
     "text": [
      "done!\n"
     ]
    }
   ],
   "source": [
    "res.to_csv('./data/res_001.csv', header=False, index=False)\n",
    "print('done!')"
   ]
  },
  {
   "cell_type": "code",
   "execution_count": 29,
   "metadata": {},
   "outputs": [
    {
     "name": "stdout",
     "output_type": "stream",
     "text": [
      "481 0.2405\n"
     ]
    }
   ],
   "source": [
    "num = len(res[res['type']=='围网'])\n",
    "print(num, num/ 2000)"
   ]
  },
  {
   "cell_type": "code",
   "execution_count": 30,
   "metadata": {},
   "outputs": [
    {
     "name": "stdout",
     "output_type": "stream",
     "text": [
      "258 0.129\n"
     ]
    }
   ],
   "source": [
    "num = len(res[res['type'] == '刺网'])\n",
    "print(num, num/ 2000)"
   ]
  },
  {
   "cell_type": "code",
   "execution_count": 31,
   "metadata": {},
   "outputs": [
    {
     "name": "stdout",
     "output_type": "stream",
     "text": [
      "1261 0.6305\n"
     ]
    }
   ],
   "source": [
    "num = len(res[res['type']=='拖网'])\n",
    "print(num, num/2000)"
   ]
  }
 ],
 "metadata": {
  "kernelspec": {
   "display_name": "Python 3",
   "language": "python",
   "name": "python3"
  },
  "language_info": {
   "codemirror_mode": {
    "name": "ipython",
    "version": 3
   },
   "file_extension": ".py",
   "mimetype": "text/x-python",
   "name": "python",
   "nbconvert_exporter": "python",
   "pygments_lexer": "ipython3",
   "version": "3.7.4"
  }
 },
 "nbformat": 4,
 "nbformat_minor": 4
}
